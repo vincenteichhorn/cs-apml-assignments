{
 "cells": [
  {
   "attachments": {},
   "cell_type": "markdown",
   "metadata": {},
   "source": [
    "# Spam or Ham (project 1)\n",
    "\n",
    "## 1- Introduction with the Bernoulli model\n",
    "\n",
    "\n",
    "We say that a random variables $X \\in \\{0, 1\\}$ follows a Bernoulli distribution of parameter $\\theta$ if $\\mathbb{P}(X = 1) = \\theta$ and $\\mathbb{P}(X = 0) = 1 − \\theta$.\n",
    "\n",
    "\n",
    "1.  Show that we can write the probability distribution of $X$ in a compact form as : \n",
    "$$\n",
    "\\mathbb{P}(X = x) = \\theta^{x} (1 − \\theta)^{1−x}\n",
    "$$\n",
    "\n",
    "2. Suppose now that we have a set of n independent variables $x_1,...,x_n$. If we note $n_1 = \\sum_{i=1}^n \\mathbb{1}_{\\{x_i=1\\}}$ and $n_0 = n − n_1$, show that :\n",
    "$$\n",
    "\\mathbb{P}(x_1,\\ldots,x_n \\mid \\theta)=\\theta^{n_1} (1−\\theta)^{n_0}\n",
    "$$\n",
    "\n",
    "3. Show that the maximum likelihood estimator is $\\hat{\\theta}_{ML} = \\frac{n_1}{n}$\n",
    "\n",
    "4. A conjugate prior for the Bernoulli distribution is the Beta distribution. \n",
    "$$\n",
    "Beta(\\theta \\mid a, b) \\propto \\theta^{a−1} (1 − \\theta)^{b−1}\n",
    "$$\n",
    "The Beta distribution has the following properties for its expectation and mode (for more details you can look in one of the books like the Bishop):\n",
    "$$\n",
    "\\mathbb{E}(\\theta) = \\frac{a}{a+b} \\text{, mode}(\\theta) = \\frac{a-1}{a+b-2}\n",
    "$$\n",
    "\n",
    "Show that with a $Beta(a,b)$ prior the posterior distribution \n",
    "$\\mathbb{P}(\\theta \\mid x_1,\\ldots, x_n)$\n",
    "is proportional to $\\theta^{n_1+a-1} \\cdot (1 − \\theta)^{n_0+b-1}$ \n",
    "\n",
    "5. (Those two questions are optional, you can also simply use the result in the following)\n",
    "\n",
    "  a. Show that the maximum a posteriori _mode_ estimate is in the form $\\bar{\\theta}_{MAP} = \\frac{n_1+a-1}{n+a+b-2}$\n",
    "\n",
    "  b. Show that the maximum a posteriori \n",
    "_mean_ estimate is in the form $\\hat{\\theta}_{MAP} = \\mathbb{E}(\\theta \\mid x_1,\\ldots, x_n) = \n",
    "\\int_{\\theta =0}^1 \\mathbb{P}(\\theta \\mid x_1\\ldots x_n) d\\theta  = \\frac{n_1+a}{n+a+b}$\n"
   ]
  },
  {
   "cell_type": "markdown",
   "metadata": {},
   "source": [
    "### Solution 1\n",
    "We have two cases:\n",
    "   - if $x = 1$, then $\\mathbb{P}(X = x) = \\theta = \\theta^{1} (1 − \\theta)^{0}$\n",
    "   - if $x = 0$, then $\\mathbb{P}(X = x) = 1 − \\theta = \\theta^{0} (1 − \\theta)^{1}$. \n",
    "\n",
    "Thus, the compact form holds for both cases."
   ]
  },
  {
   "cell_type": "markdown",
   "metadata": {},
   "source": [
    "### Solution 2\n",
    "So we have $n_1$ as the count of variables equal to 1 and $n_0$ as the count of variables equal to 0. Since the variables are independent, we can multiply their probabilities to get the joint probabilitys:\n",
    "$$\\mathbb{P}(x_1, \\dots, x_n \\mid \\theta) = \\prod_{i=1}^{n} \\mathbb{P}(X = x_i) = \\prod_{i=1}^{n_1} \\mathbb{P}(X = 1) \\prod_{j=1}^{n_0} \\mathbb{P}(X = 0)$$\n",
    "Expanding both products gives:\n",
    "$$\\prod_{i=1}^{n_1} \\mathbb{P}(X = 1) = \\prod_{i=1}^{n_1} \\theta = \\theta^{n_1}$$\n",
    "$$\\prod_{j=1}^{n_0} \\mathbb{P}(X = 0) = \\prod_{j=1}^{n_0} (1 - \\theta) = (1 - \\theta)^{n_0}$$\n",
    "Therefore, we have:\n",
    "$$\\mathbb{P}(x_1, \\dots, x_n \\mid \\theta) = \\theta^{n_1} (1 - \\theta)^{n_0}$$"
   ]
  },
  {
   "cell_type": "markdown",
   "metadata": {},
   "source": [
    "### Solution 3\n",
    "To find the maximum likelihood estimator (MLE) $\\hat{\\theta}_{ML}$, we need to define the likelihood function based on the joint probability derived in Solution 2:\n",
    "$$L(\\theta) = \\mathbb{P}(x_1, \\dots, x_n \\mid \\theta) = \\theta^{n_1} (1 - \\theta)^{n_0}$$\n",
    "Now we take the natural logarithm of the likelihood function to simplify the differentiation process:\n",
    "$$\\log L(\\theta) = n_1 \\log(\\theta) + n_0 \\log(1 - \\theta)$$\n",
    "Now, we differentiate the log-likelihood with respect to $\\theta$ and set it to zero to find the maximum:\n",
    "$$\\frac{d}{d\\theta} \\log L(\\theta) = \\frac{n_1}{\\theta} - \\frac{n_0}{1 - \\theta} = 0$$\n",
    "Solving for $\\theta$, we get by cross-multiplying:\n",
    "$$n_1 (1 - \\theta) = n_0 \\theta$$\n",
    "$$n_1 - n_1 \\theta = n_0 \\theta$$\n",
    "$$n_1 = (n_0 + n_1) \\theta$$\n",
    "Thus, we find (noting that $n = n_0 + n_1$):\n",
    "$$\\hat{\\theta}_{ML} = \\frac{n_1}{n}$$"
   ]
  },
  {
   "cell_type": "markdown",
   "metadata": {},
   "source": [
    "### Solution 4\n",
    "Using Bayes' theorem, we derive the posterior distribution as follows:\n",
    "$$\n",
    "\\mathbb{P}(\\theta \\mid x_1,\\ldots, x_n) = \\frac{\\mathbb{P}(x_1,\\ldots, x_n \\mid \\theta) \\cdot \\mathbb{P}(\\theta)}{\\mathbb{P}(x_1,\\ldots, x_n)}$$\n",
    "Therefore, we have:\n",
    "$$\\mathbb{P}(\\theta \\mid x_1,\\ldots, x_n) \\propto \\mathbb{P}(x_1,\\ldots, x_n \\mid \\theta) \\cdot \\mathbb{P}(\\theta)$$\n",
    "Now, we substitute the likelihood and prior distributions:\n",
    "$$\\mathbb{P}(\\theta \\mid x_1,\\ldots, x_n) \\propto \\theta^{n_1} (1−\\theta)^{n_0} \\cdot \\theta^{a−1} (1 − \\theta)^{b−1}$$\n",
    "Combining the exponents, we get:\n",
    "$$\\mathbb{P}(\\theta \\mid x_1,\\ldots, x_n) \\propto \\theta^{n_1+a-1} \\cdot (1 − \\theta)^{n_0+b-1}$$"
   ]
  },
  {
   "cell_type": "markdown",
   "metadata": {},
   "source": [
    "### Solution 5 (optional)\n",
    "Using the results from Solution 4, we can see that the posterior distribution is a Beta distribution:\n",
    "$$\\mathbb{P}(\\theta \\mid x_1,\\ldots, x_n) \\sim \\text{Beta}(n_1 + a, n_0 + b)$$\n",
    "This means that the parameters are $a' = n_1 + a$ and $b' = n_0 + b$. We can now plug them into the mode formula:\n",
    "$$\\bar{\\theta}_{MAP} = \\frac{(n_1 + a) - 1}{(n_1 + a) + (n_0 + b) - 2} = \\frac{n_1 + a - 1}{n + a + b - 2}$$\n",
    "\n",
    "And we can plug them into the mean formula:\n",
    "$$\\hat{\\theta}_{MAP} = \\mathbb{E}(\\theta \\mid x_1,\\ldots, x_n) = \\frac{n_1 + a}{n + a + b}$$"
   ]
  },
  {
   "cell_type": "markdown",
   "metadata": {},
   "source": [
    "## Spam classifier\n",
    "\n",
    "The goal of this small project is to use a Naive bayes classifier to build a spam filter. To build our filter, we will use a dataset of 5,572 SMS messages put together by Tiago A. Almeida and José María Gómez Hidalgo. \n",
    "The dataset and the article describing the dataset are in the whiteboard directory together with this notebook. Of note, the SMS messages have already been processed for ease of use: all punctuation marks have been removed and the text has been transformed into lowercase. It is also common practice to remove any stop words such as `a`, `as`, `the` and to perform stemming (reduce words to their base form, such as stripping  the final `s*` in plural words, or the `*ing` from verbs (e.g., running becomes run)). For the sake of simplicity, we did not do that in this exercise.\n",
    "\n",
    "We will use a bag of word model:\n",
    " - We construct a corpus of the possible words $\\mathcal{D} = \\{w_1, \\ldots , w_d\\}$.\n",
    " - Each document is described by a vector of binary values $(x^{(1)}, \\ldots , x^{(d)})$ where $x^{(i)} = 1$ if $w_i$ occurs in the document and $0$ otherwise.\n",
    "\n",
    "The classification task is to predict for an SMS message if it is a _spam_ or a _ham_ (e.g. non-spam).\n",
    "\n",
    "Our data is thus $\\mathbf{x} = (x^{(1)},\\ldots, x^{(d)})$, $x^{(i)} \\in \\{0,1\\}$ and $y \\in \\{s,h\\}$\n",
    "We hypothesise that the values $x^{(i)}$ are drawn according to a Bernoulli distribution whose parameter depends on the class:\n",
    "$$\n",
    "\\mathbb{P}(x^{(i)} \\mid y = s) = \\theta_{i,s}^{x^{(i)}} \\cdot (1-\\theta_{i,s})^{1-x^{(i)}}\n",
    "$$\n",
    "and \n",
    "$$\n",
    "\\mathbb{P}(x^{(i)} \\mid y = h) = \\theta_{i,h}^{x^{(i)}} \\cdot (1-\\theta_{i,h})^{1-x^{(i)}}\n",
    "$$\n",
    "As we will use a naive Bayes classifier, the occurences of the different words are independent from each other.\n",
    "\\begin{align}\n",
    "\\mathbb{P}(\\mathbf{x} \\mid y = s) & = \\prod_{i=1}^{d} \\mathbb{P} (x^{(i)} \\mid y = s)\\\\\n",
    "  & =  \\prod_{i=1}^{d} \\theta_{i,s}^{x^{(i)}} \\cdot (1-\\theta_{i,s})^{1-x^{(i)}}\n",
    "\\end{align}\n"
   ]
  },
  {
   "cell_type": "markdown",
   "metadata": {},
   "source": [
    "## Importing library and loading dataset"
   ]
  },
  {
   "cell_type": "code",
   "execution_count": 1,
   "metadata": {},
   "outputs": [],
   "source": [
    "%matplotlib inline\n",
    "import numpy as np\n",
    "import matplotlib.pyplot as plt\n",
    "\n",
    "##Load the dataset (if in the same directory as the notebook)\n",
    "sms_data = np.loadtxt(\"./SMSSpamCollection_cleaned.csv\", delimiter=\"\\t\", skiprows=1, dtype=str)\n",
    "\n",
    "## create test data set for checkpointing\n",
    "checkpoint_data = np.array([['spam', 'dear researcher submit manuscript money'], \n",
    "          ['ham','dear friend meet beer'],\n",
    "          ['ham', 'dear friend meet you']], dtype=str)"
   ]
  },
  {
   "cell_type": "code",
   "execution_count": 6,
   "metadata": {},
   "outputs": [
    {
     "name": "stdout",
     "output_type": "stream",
     "text": [
      "Check the dataset:\n"
     ]
    },
    {
     "data": {
      "text/plain": [
       "array([['ham',\n",
       "        'go until jurong point  crazy   available only in bugis n great world la e buffet    cine there got amore wat   '],\n",
       "       ['ham', 'ok lar    joking wif u oni   '],\n",
       "       ['spam',\n",
       "        'free entry in 2 a wkly comp to win fa cup final tkts 21st may 2005  text fa to 87121 to receive entry question std txt rate t c s apply 08452810075over18 s'],\n",
       "       ...,\n",
       "       ['ham',\n",
       "        'pity    was in mood for that  so   any other suggestions '],\n",
       "       ['ham',\n",
       "        'the guy did some bitching but i acted like i d be interested in buying something else next week and he gave it to us for free'],\n",
       "       ['ham', 'rofl  its true to its name']],\n",
       "      shape=(5572, 2), dtype='<U910')"
      ]
     },
     "metadata": {},
     "output_type": "display_data"
    },
    {
     "name": "stdout",
     "output_type": "stream",
     "text": [
      "Number of messages in dataset: 5572 \n",
      "\n",
      "Third message is a: spam\n",
      "['free', 'entry', 'in', '2', 'a', 'wkly', 'comp', 'to', 'win', 'fa', 'cup', 'final', 'tkts', '21st', 'may', '2005', 'text', 'fa', 'to', '87121', 'to', 'receive', 'entry', 'question', 'std', 'txt', 'rate', 't', 'c', 's', 'apply', '08452810075over18', 's']\n"
     ]
    }
   ],
   "source": [
    "##Check the dataset\n",
    "print(\"Check the dataset:\")\n",
    "display(sms_data)\n",
    "\n",
    "##Check the size of the dataset\n",
    "num_messages = sms_data.shape[0]\n",
    "print(\"Number of messages in dataset:\", num_messages, \"\\n\")\n",
    "\n",
    "##third message is a...\n",
    "print(\"Third message is a:\", sms_data[2][0])\n",
    "##dividing the third message into words\n",
    "print(sms_data[2][1].split())"
   ]
  },
  {
   "cell_type": "markdown",
   "metadata": {},
   "source": [
    "## 2 - Construction of the Corpus\n",
    "\n",
    "Construct the corpus $\\mathcal{D}$ of all words in the dataset. The corpus will be represented as a hash table where each key is a unique word in the dataset and each value is the row index for that word. \n",
    " - How many unique words are there? \n",
    " - What are the 10 most common words (_e.g._ occuring in the most documents)?\n",
    " - Transform the set of messages in the form of a binary matrix of word occurrences.\n",
    " \n",
    " You can evaluate whether your implementation works using the checkpoint_data array. For this dataset the corpus could look as follows :\n",
    "\n",
    "`{'dear': 0, 'researcher': 1, 'submit': 2, 'manuscript': 3, 'money': 4, 'friend': 5, 'meet': 6, 'beer': 7, 'you': 8}`\n",
    "(of course you could have other index values for the words). \n",
    "\n",
    "The recoding of the checkpoint data will give you the following numpy array:\n",
    "\n",
    "```\n",
    "[[1. 1. 1. 1. 1. 0. 0. 0. 0.]\n",
    " [1. 0. 0. 0. 0. 1. 1. 1. 0.]\n",
    " [1. 0. 0. 0. 0. 1. 1. 0. 1.]]\n",
    "```"
   ]
  },
  {
   "cell_type": "code",
   "execution_count": 7,
   "metadata": {},
   "outputs": [],
   "source": [
    "def construct_corpus(data):\n",
    "    \"\"\"\n",
    "    np.array[str, str] -> dict[str:int]\n",
    "    \n",
    "    from a 2D array of str, return a dict\n",
    "    \"\"\"\n",
    "    corpus = dict()\n",
    "    i = 0\n",
    "    for label, sms in data:\n",
    "        for word in sms.split():\n",
    "            if word not in corpus:\n",
    "                corpus[word] = i\n",
    "                i += 1\n",
    "\n",
    "    return corpus       "
   ]
  },
  {
   "cell_type": "code",
   "execution_count": 9,
   "metadata": {},
   "outputs": [],
   "source": [
    "def recode_messages(data, corpus):\n",
    "    \"\"\"\n",
    "    np.array[str, str] * dict[str:int] -> np.array[int, int]\n",
    "    \n",
    "    returns the binary matrix encoding \n",
    "    \"\"\"\n",
    "    X = np.zeros((len(data),len(corpus)))\n",
    "    Y = np.zeros(len(data))\n",
    "\n",
    "    for i, (label, sms) in enumerate(data):\n",
    "        for word in sms.split():\n",
    "            X[i, corpus[word]] = 1\n",
    "        \n",
    "        Y[i] = int(label==\"spam\")\n",
    "        \n",
    "    return X, Y"
   ]
  },
  {
   "cell_type": "code",
   "execution_count": 10,
   "metadata": {},
   "outputs": [],
   "source": [
    "D = construct_corpus(sms_data)\n",
    "X, Y = recode_messages(sms_data, D)    "
   ]
  },
  {
   "cell_type": "markdown",
   "metadata": {},
   "source": [
    "## 3 - Construct a training and a testing set and estimation of parameters\n",
    "\n",
    "\n",
    "To do the evaluation of the model afterward we will split the dataset randomly in two: \n",
    "- one dataset for training (80% of the messages) \n",
    "- one dataset for testing (20% of the messages).\n",
    "\n",
    "If you are familiar with it, you can use the `sklearn.model_selection` functions to construct the train and test datasets.\n"
   ]
  },
  {
   "cell_type": "code",
   "execution_count": 11,
   "metadata": {},
   "outputs": [],
   "source": [
    "def train_test_split(X, Y, train_percentage=0.8, seed=42):\n",
    "    assert X.shape[0] == Y.shape[0]\n",
    "\n",
    "    number_examples = X.shape[0]\n",
    "    num_train = int(train_percentage * number_examples)\n",
    "\n",
    "    np.random.seed(seed)\n",
    "    indices = np.random.permutation(number_examples)\n",
    "    train_indices = indices[:num_train]\n",
    "    test_indices = indices[num_train:]\n",
    "    return X[train_indices], Y[train_indices], X[test_indices], Y[test_indices]"
   ]
  },
  {
   "cell_type": "code",
   "execution_count": 12,
   "metadata": {},
   "outputs": [],
   "source": [
    "X_train, Y_train, X_test, Y_test = train_test_split(X, Y, train_percentage=0.8)"
   ]
  },
  {
   "attachments": {},
   "cell_type": "markdown",
   "metadata": {},
   "source": [
    "## 4 - Estimation of the model parameters\n",
    "\n",
    "We will now estimate our model on the training set. This means estimating two types of parameters: the class prior, and the conditional word occurrence probabilities.\n",
    "\n",
    "1.  Estimate the class prior $\\mathbb{P}(c) = \\mathbb{P}(y = c), (c = s, h)$\n",
    "2.  Using the results from section 1, compute the Maximum a posteriori estimator for the $d \\times 2$ matrix of parameters (reminder $\\theta_{i,j} = \\mathbb{P}(x=i \\mid y = j)$).\n",
    " $$\n",
    " \\Theta = \\left(\n",
    " \\begin{array}{cc}\n",
    " \\theta_{1,h}   & \\theta_{1,s} \\\\\n",
    " \\theta_{2,h} & \\theta_{2,s} \\\\\n",
    " \\vdots & \\vdots \\\\\n",
    " \\theta_{d,h} & \\theta_{d,s} \\\\\n",
    " \\end{array}\n",
    " \\right).\n",
    " $$ You can use as conjugate prior a Beta(1, 1) distribution for instance (then $\\theta_{i,c} = \\frac{n_{i,c}+1}{N+2}$ where $n_{i,c}$ is the number of documents from the class $c$ where the word $w_i$ is present and $N$ is the total number of documents of that class).\n",
    "\n",
    " When applied to the checkpoint data, your $\\Theta$ matrix should look like this:\n",
    "\n",
    " ```\n",
    " # h    s\n",
    " [[0.75 0.66666667]  #'dear'\n",
    "  [0.25 0.66666667]  #'researcher'\n",
    "  [0.25 0.66666667]  #'submit'\n",
    "  [0.25 0.66666667]  #'manuscript'\n",
    "  [0.25 0.66666667]  #'money'\n",
    "  [0.75 0.33333333]  #'friend'\n",
    "  [0.75 0.33333333]  #'meet'\n",
    "  [0.5  0.33333333]  #'beer'\n",
    "  [0.5  0.33333333]] #'you'\n",
    " ```\n",
    "\n",
    "3. Represent the fitted word occurrence class conditional probabilities $(\\theta_{i,h})_{i \\in \\mathcal{D}}$ and $(\\theta_{i,s})_{i \\in \\mathcal{D}}$. You can represent it as two barplots, like shown in the lecture at the end of the \"Naive Bayes for document\" part. \n"
   ]
  },
  {
   "cell_type": "code",
   "execution_count": 13,
   "metadata": {},
   "outputs": [],
   "source": [
    "def estimate_class_priors(Y):\n",
    "    \"\"\"\n",
    "    calculate the class priors from the labels Y\n",
    "    \"\"\"\n",
    "    n_samples = len(Y)\n",
    "    n_spam = np.sum(Y)\n",
    "    n_ham = n_samples - n_spam\n",
    "    \n",
    "    p_spam = n_spam / n_samples\n",
    "    p_ham = n_ham / n_samples\n",
    "    \n",
    "    return p_ham, p_spam"
   ]
  },
  {
   "cell_type": "code",
   "execution_count": 14,
   "metadata": {},
   "outputs": [
    {
     "name": "stdout",
     "output_type": "stream",
     "text": [
      "Ham prior: 0.8669508638097375\n",
      "Spam prior: 0.1330491361902625\n"
     ]
    }
   ],
   "source": [
    "ham_prior, spam_prior = estimate_class_priors(Y_train)\n",
    "print(\"Ham prior:\", ham_prior)\n",
    "print(\"Spam prior:\", spam_prior)"
   ]
  },
  {
   "cell_type": "code",
   "execution_count": 15,
   "metadata": {},
   "outputs": [],
   "source": [
    "def estimate_parameters(X_train, Y_train):\n",
    "    \"\"\"\n",
    "    estimate the matrix theta\n",
    "    \"\"\"\n",
    "    V = X_train.shape[1] # Vocabulary size\n",
    "    alpha = 1  # Laplace smoothing parameter\n",
    "\n",
    "    X_spam = X_train[Y_train == 1, :]\n",
    "    X_ham = X_train[Y_train == 0, :]\n",
    "\n",
    "    n_spam = X_spam.shape[0]\n",
    "    n_ham = X_ham.shape[0]\n",
    "\n",
    "    theta_spam = (np.sum(X_spam, axis=0) + alpha) / (n_spam + V * alpha)\n",
    "    theta_ham = (np.sum(X_ham, axis=0) + alpha) / (n_ham + V * alpha)\n",
    "    theta = np.vstack((theta_ham, theta_spam)).T\n",
    "    return theta"
   ]
  },
  {
   "cell_type": "code",
   "execution_count": 16,
   "metadata": {},
   "outputs": [
    {
     "name": "stdout",
     "output_type": "stream",
     "text": [
      "Theta: [[0.01497979 0.00235395]\n",
      " [0.00158516 0.00053499]\n",
      " [0.00015852 0.000107  ]\n",
      " ...\n",
      " [0.00015852 0.000107  ]\n",
      " [0.00015852 0.000107  ]\n",
      " [0.00015852 0.000107  ]]\n"
     ]
    }
   ],
   "source": [
    "theta = estimate_parameters(X_train, Y_train)\n",
    "print(\"Theta:\", theta)"
   ]
  },
  {
   "cell_type": "code",
   "execution_count": 17,
   "metadata": {},
   "outputs": [
    {
     "name": "stderr",
     "output_type": "stream",
     "text": [
      "/home/jplen/.cache/pypoetry/virtualenvs/cs-apml-assignments-mElxrNIC-py3.13/lib/python3.13/site-packages/IPython/core/pylabtools.py:170: UserWarning: Creating legend with loc=\"best\" can be slow with large amounts of data.\n",
      "  fig.canvas.print_figure(bytes_io, **kw)\n"
     ]
    },
    {
     "data": {
      "image/png": "[encoded data removed]",
      "text/plain": [
       "<Figure size 3000x600 with 1 Axes>"
      ]
     },
     "metadata": {},
     "output_type": "display_data"
    }
   ],
   "source": [
    "# Barplot of the learned parameters\n",
    "words = list(D.keys())\n",
    "theta_ham = theta[:,0]\n",
    "theta_spam = theta[:,1]\n",
    "plt.figure(figsize=(30,6))\n",
    "plt.bar(np.arange(len(words))-0.2, theta_ham, width=1, label='Ham', align='center')\n",
    "plt.bar(np.arange(len(words))+0.2, theta_spam, width=1, label='Spam', align='center')\n",
    "plt.ylabel('Estimated Probability')\n",
    "plt.title('Estimated Word Probabilities for Ham and Spam')\n",
    "plt.legend()\n",
    "plt.show()"
   ]
  },
  {
   "cell_type": "markdown",
   "metadata": {},
   "source": [
    "## 4 - Message classification\n",
    "\n",
    "\n",
    "4. Classify the messages in the test set using the Maximum a posteriori rule, and evaluate the performance of the model by computing the True Positive Rate (also called Sensitivity) and the False Positive Rate (the same as 1-Specificity). When performing the evaluation, keep in mind that the test set should not have access to the dictionary that was constructed during the training step. \n",
    "\n",
    "5. The performance of the model above was obtained by using a classification threshold of $0.5$ on the posterior probability. In other words, if $\\mathbb{P}(y = s \\mid \\mathbb{x}) \\ge 0.5$ then the message is classified as spam. Draw a ROC curve for your classifier. Note that you have to consider multiple values of the threshold to draw the ROC curve.\n",
    "\n",
    "6. Why did we use the Maximum a posteriori estimator rather than the maximum likelihood one?\n",
    "\n",
    "\n"
   ]
  },
  {
   "cell_type": "code",
   "execution_count": null,
   "metadata": {},
   "outputs": [],
   "source": [
    "def estimate_map(theta, x, spam_prior, ham_prior, threshold=0.5):\n",
    "    \"\"\"\n",
    "    Estimate the MAP label for a given input x\n",
    "    \"\"\"\n",
    "    log_p_ham = np.log(ham_prior) + np.sum(x * np.log(theta[:,0]) + (1 - x) * np.log(1 - theta[:,0]))\n",
    "    log_p_spam = np.log(spam_prior) + np.sum(x * np.log(theta[:,1]) + (1 - x) * np.log(1 - theta[:,1]))\n",
    "\n",
    "    p_ham, p_spam = np.exp(log_p_ham), np.exp(log_p_spam)\n",
    "    ratio = p_spam / (p_spam + p_ham) if (p_spam + p_ham) != 0 else 0\n",
    "    return 1 if ratio >= threshold else 0"
   ]
  },
  {
   "cell_type": "code",
   "execution_count": 20,
   "metadata": {},
   "outputs": [
    {
     "name": "stdout",
     "output_type": "stream",
     "text": [
      "Accuracy on Test Set: 0.9453\n"
     ]
    }
   ],
   "source": [
    "# Evaluate on test set\n",
    "Y_pred = np.array([estimate_map(theta, x, ham_prior, spam_prior, threshold=0.5) for x in X_test])\n",
    "accuracy = np.sum(Y_pred == Y_test) / len(Y_test)\n",
    "print(f\"Accuracy on Test Set: {accuracy:.4f}\")"
   ]
  },
  {
   "cell_type": "code",
   "execution_count": null,
   "metadata": {},
   "outputs": [
    {
     "name": "stdout",
     "output_type": "stream",
     "text": [
      " hreshold: 1.089898989898999964\n",
      "AUC: 0.9099\n"
     ]
    },
    {
     "data": {
      "image/png": "[encoded data removed]",
      "text/plain": [
       "<Figure size 640x480 with 1 Axes>"
      ]
     },
     "metadata": {},
     "output_type": "display_data"
    }
   ],
   "source": [
    "# create roc curve\n",
    "thresholds = np.linspace(0, 1, 100)\n",
    "tpr_list = []\n",
    "fpr_list = []\n",
    "\n",
    "for i, threshold in enumerate(thresholds):\n",
    "    print(\"Threshold:\", threshold, end=\"\\r\")\n",
    "    Y_pred = np.array([estimate_map(theta, x, spam_prior, ham_prior, threshold) for x in X_test])\n",
    "\n",
    "    true_positives = np.sum((Y_pred == 1) & (Y_test == 1))\n",
    "    false_positives = np.sum((Y_pred == 1) & (Y_test == 0))\n",
    "    false_negatives = np.sum((Y_pred == 0) & (Y_test == 1))\n",
    "    true_negatives = np.sum((Y_pred == 0) & (Y_test == 0))\n",
    "\n",
    "    true_positive_rate = true_positives / (true_positives + false_negatives)\n",
    "    false_positive_rate = false_positives / (false_positives + true_negatives)\n",
    "\n",
    "    tpr_list.append(true_positive_rate)\n",
    "    fpr_list.append(false_positive_rate)\n",
    "\n",
    "auc = np.trapezoid(tpr_list[::-1], fpr_list[::-1])\n",
    "\n",
    "print(\" \")\n",
    "print(f\"AUC: {auc:.4f}\")\n",
    "\n",
    "plt.figure()\n",
    "plt.plot(fpr_list, tpr_list, label='ROC Curve')\n",
    "plt.plot([0, 1], [0, 1], 'k--', label='Random Guess')\n",
    "plt.xlabel('False Positive Rate')\n",
    "plt.ylabel('True Positive Rate')\n",
    "plt.title('ROC Curve for Naive Bayes Spam Classifier')  \n",
    "plt.legend()\n",
    "plt.show()"
   ]
  },
  {
   "attachments": {},
   "cell_type": "markdown",
   "metadata": {},
   "source": [
    "## 5 - Extension of the model \n",
    "\n",
    "One extension of the model is to consider a matrix of word counts instead of simply their presence/absence. \n",
    "The model will change in various ways in this case: \n",
    "   - We will count the total number of occurence in the spam or the ham set for each word.\n",
    "   - the words are now considered to occur independently along the sentence (independent Multinoulli). Thus, for a document with k words $\\mathbf{v}=(v_1,\\ldots, v_k)$\n",
    "    \\begin{align}\n",
    "    \\mathbb{P}(\\mathbf{v} \\mid y = s) \n",
    "  & =  \\prod_{t=1}^{k} p_{v_t}\n",
    "    \\end{align}\n",
    "       where $p_v$ is the probability to observe a word $v$\n",
    "       \n",
    "Note that with this new model we compute a product over the positions in the sentence while the bernoulli model did a product over all the words in the corpus.\n",
    "\n",
    "For the end of this project, you will implement the \n",
    "\n",
    "1. Rewrite the likelihood of a sentence such that it only needs a vector of counts of each word $\\mathbb{c} = (c^{(1)}, c^{(2)}, \\ldots, c^{(d)})$. From this likelihood formulation provide ML estimators for the parameters $p_{i}^{h}$ and $p_i^{s}$ of the model. \n",
    "2. Implement the computation of the posterior class probabilities. This question can be interpreted in different ways, depending on the modeling choice. Please explain your choices. Feel free to use additional external resources (and cite them) to guide you in this task.\n",
    "3. Compare its accuracy and ROC curve with the previous model on a test set (*e.g.* go over section 3 and 4 again for this model).\n",
    "\n"
   ]
  },
  {
   "cell_type": "markdown",
   "metadata": {},
   "source": [
    "### 1. Likelihood\n",
    "We consider a document represented in two different ways:\n",
    "1. As a direct vector of words: $\\mathbf{v}=(v_1,\\ldots, v_k)$ where $v_t$ is the word at position $t$ in the document.\n",
    "2. As a vector of counts of each word in the corpus: $\\mathbb{c} = (c^{(1)}, c^{(2)}, \\ldots, c^{(d)})$ where $c^{(i)}$ is the number of times word $w_i$ occurs in the document.\n",
    "\n",
    "If we consider the likelihood of the document represented as a vector of words, we have:\n",
    "$$\\mathbb{P}(v_1, \\ldots, v_k \\mid y \\in \\{s, h\\}) = \\prod_{t=1}^{k} p_{v_t, y}$$\n",
    "\n",
    "where $p_{v_t, y}$ is the probability of observing word $v_t$ given class $y$. \n",
    "\n",
    "We consider the probabilities of a word independent of its position. A word occurring multiple times in the document leads to multiple occurrences of the same probability in the product. Therefore, we can rewrite the likelihood in terms of the count vector $\\mathbb{c}$ as follows:\n",
    "$$\\mathbb{P}(c = (c_1, \\ldots, c_d) \\mid y \\in \\{s, h\\}) = \\prod_{i=1}^{d} p_{i,y}^{c^{(i)}}$$\n",
    "We write the product over the vocabulary size $d$, as we consider all possible words in the corpus. Each term $p_{i,y}^{c^{(i)}}$ accounts for the probability of word $w_i$ occurring $c^{(i)}$ times in the document given class $y$.\n",
    "\n",
    "### 2. Maximum Likelihood Estimators\n",
    "To estimate the parameters $p_{i, h}$ and $p_{i, s}$ using Maximum Likelihood Estimation (MLE), we start with the likelihood function for a given class $y$ over the entire training dataset. The likelihood function for class $y$ is given by:\n",
    "$$L = \\prod_{(c_1, \\ldots, c_d) \\in D_y} \\prod_{i=1}^{d} p_{i,y}^{c^{(i)}}$$\n",
    "where $D_y$ is the set of documents belonging to class $y$. \n",
    "\n",
    "Taking the logarithm of the likelihood function, we have:\n",
    "$$\\log L = \\sum_{(c_1, \\ldots, c_d) \\in D_y} \\sum_{i=1}^{d} c^{(i)} \\log p_{i,y}$$\n",
    "\n",
    "We define now $N_{i,y} = \\sum_{(c_1, \\ldots, c_d) \\in D_y} c^{(i)}$ as the total count of word $w_i$ in documents of class $y$. This helps us rewrite the equation as:\n",
    "$$\\log L = \\sum_{i=1}^{d} N_{i,y} \\log p_{i,y}$$\n",
    "We have the constraint that the probabilities must sum to 1:\n",
    "$$\\sum_{i=1}^{d} p_{i,y} = 1$$\n",
    "\n",
    "Now we take the partial derivative of the log-likelihood with respect to the parameters $p_{i,y}$ and set it to zero to find the maximum:\n",
    "$$\\frac{\\partial \\log L}{\\partial p_{i,y}} = \\frac{N_{i,y}}{p_{i,y}} - \\lambda = 0$$\n",
    "where $\\lambda$ is a Lagrange multiplier introduced to enforce the constraint that the probabilities sum to 1 $\\sum_{i=1}^{d} p_{i,y} = 1$.\n",
    "Solving for $p_{i,y}$, we get:\n",
    "$$p_{i,y} = \\frac{N_{i,y}}{\\lambda}$$\n",
    "To find $\\lambda$, we use the constraint:\n",
    "$$\\sum_{i=1}^{d} p_{i,y} = \\sum_{i=1}^{d} \\frac{N_{i,y}}{\\lambda} = 1$$\n",
    "This gives us:\n",
    "$$\\lambda = N_{y}$$\n",
    "where $N_{y} = \\sum_{i=1}^{d} N_{i,y}$ is the total number of words in documents of class $y$.\n",
    "Substituting back, we find the MLE for $p_{i,y}$:\n",
    "$$p_{i,y} = \\frac{N_{i,y}}{N_{y}}$$\n",
    "Thus, the Maximum Likelihood Estimators for the parameters are:\n",
    "$$\\hat{p}_{i,h} = \\frac{N_{i,h}}{N_{h}} \\quad \\text{and} \\quad \\hat{p}_{i,s} = \\frac{N_{i,s}}{N_{s}}$$\n",
    "where $N_{i,h}$ and $N_{i,s}$ are the total counts of word $w_i$ in ham and spam documents respectively, and $N_{h}$ and $N_{s}$ are the total number of words in ham and spam documents respectively.\n",
    "\n",
    "### 3. Maximum a posteriori class probabilities\n",
    "To compute the posterior class probabilities using Bayes' theorem, we start with the likelihood of the document given each class and the prior probabilities of each class. The posterior probability of class $y$ given the count vector $\\mathbb{c}$ is given by:\n",
    "$$\\mathbb{P}(y \\mid c) \\propto \\mathbb{P}(c \\mid y) \\cdot \\mathbb{P}(y) = \\left( \\prod_{i=1}^{d} p_{i,y}^{c^{(i)}} \\right) \\cdot \\mathbb{P}(y)$$\n",
    "To compute the posterior probabilities for both classes (spam and ham), we calculate:\n",
    "$$\\mathbb{P}(s \\mid c) \\propto \\left( \\prod_{i=1}^{d} p_{i,s}^{c^{(i)}} \\right) \\cdot \\mathbb{P}(s)$$\n",
    "$$\\mathbb{P}(h \\mid c) \\propto \\left( \\prod_{i=1}^{d} p_{i,h}^{c^{(i)}} \\right) \\cdot \\mathbb{P}(h)$$"
   ]
  },
  {
   "cell_type": "code",
   "execution_count": 22,
   "metadata": {},
   "outputs": [],
   "source": [
    "def recode_messages_occurences(data, corpus):\n",
    "    \"\"\"\n",
    "    Recode the messages into a bag-of-words representation.\n",
    "    \"\"\"\n",
    "    X = np.zeros((len(data),len(corpus)))\n",
    "    Y = np.zeros(len(data))\n",
    "\n",
    "    for i, (label, sms) in enumerate(data):\n",
    "        for word in sms.split():\n",
    "            X[i, corpus[word]] += 1\n",
    "\n",
    "        Y[i] = int(label==\"spam\")\n",
    "        \n",
    "    return X, Y"
   ]
  },
  {
   "cell_type": "code",
   "execution_count": 23,
   "metadata": {},
   "outputs": [],
   "source": [
    "X, Y = recode_messages_occurences(sms_data, D)    \n",
    "X_train, Y_train, X_test, Y_test = train_test_split(X, Y, train_percentage=0.8)"
   ]
  },
  {
   "cell_type": "code",
   "execution_count": 24,
   "metadata": {},
   "outputs": [],
   "source": [
    "def estimate_parameters_occurences(X_train, Y_train):\n",
    "    \"\"\"\n",
    "    Estimate the parameters for the Naive Bayes classifier using the training data.\n",
    "    \"\"\"\n",
    "    V = X_train.shape[1] # Vocabulary size for Laplace smoothing\n",
    "    alpha = 1.0 # Laplace smoothing parameter\n",
    "\n",
    "    parameter_matrix = np.zeros((V, 2))\n",
    "\n",
    "    X_spam = X_train[Y_train == 1, :]\n",
    "    X_ham = X_train[Y_train == 0, :]\n",
    "\n",
    "    num_words_spam = np.sum(X_spam)\n",
    "    num_words_ham = np.sum(X_ham)\n",
    "\n",
    "    parameter_matrix[:, 0] = (np.sum(X_ham, axis=0) + alpha) / (num_words_ham + V * alpha)\n",
    "    parameter_matrix[:, 1] = (np.sum(X_spam, axis=0) + alpha) / (num_words_spam + V * alpha)\n",
    "\n",
    "    return parameter_matrix"
   ]
  },
  {
   "cell_type": "code",
   "execution_count": null,
   "metadata": {},
   "outputs": [
    {
     "name": "stdout",
     "output_type": "stream",
     "text": [
      "Theta Occurences: [[3.09889108e-03 9.21736216e-04]\n",
      " [3.03812851e-04 2.09485504e-04]\n",
      " [3.03812851e-05 4.18971007e-05]\n",
      " ...\n",
      " [3.03812851e-05 4.18971007e-05]\n",
      " [3.03812851e-05 4.18971007e-05]\n",
      " [3.03812851e-05 4.18971007e-05]]\n"
     ]
    }
   ],
   "source": [
    "theta_occurences = estimate_parameters_occurences(X_train, Y_train)\n",
    "print(\"Theta Occurences:\", theta_occurences)"
   ]
  },
  {
   "cell_type": "code",
   "execution_count": 27,
   "metadata": {},
   "outputs": [],
   "source": [
    "def estimate_map_occurences(theta_occurences, x, ham_prior, spam_prior, threshold=0.5):\n",
    "    \"\"\"\n",
    "    Estimate the MAP label for a given input x\n",
    "    \"\"\"\n",
    "    log_p_ham = np.log(ham_prior) + np.sum(x * np.log(theta_occurences[:,0]))\n",
    "    log_p_spam = np.log(spam_prior) + np.sum(x * np.log(theta_occurences[:,1]))\n",
    "\n",
    "    p_ham, p_spam = np.exp(log_p_ham), np.exp(log_p_spam)\n",
    "    ratio = p_spam / (p_spam + p_ham) if (p_spam + p_ham) != 0 else 0\n",
    "    return 1 if ratio >= threshold else 0"
   ]
  },
  {
   "cell_type": "code",
   "execution_count": 29,
   "metadata": {},
   "outputs": [
    {
     "name": "stdout",
     "output_type": "stream",
     "text": [
      "Accuracy with occurrence model: 0.9821\n"
     ]
    }
   ],
   "source": [
    "# Evaluate on test set\n",
    "Y_pred = np.array([estimate_map_occurences(theta_occurences, x, ham_prior, spam_prior, threshold=0.5) for x in X_test])\n",
    "accuracy = np.sum(Y_pred == Y_test) / len(Y_test)\n",
    "print(f\"Accuracy with occurrence model: {accuracy:.4f}\")"
   ]
  },
  {
   "cell_type": "code",
   "execution_count": 30,
   "metadata": {},
   "outputs": [
    {
     "name": "stdout",
     "output_type": "stream",
     "text": [
      " hreshold: 1.089898989898999964\n",
      "AUC: 0.9782\n"
     ]
    },
    {
     "data": {
      "image/png": "[encoded data removed]",
      "text/plain": [
       "<Figure size 640x480 with 1 Axes>"
      ]
     },
     "metadata": {},
     "output_type": "display_data"
    }
   ],
   "source": [
    "thresholds = np.linspace(0, 1, 100)\n",
    "tpr_list = []\n",
    "fpr_list = []\n",
    "\n",
    "for i, threshold in enumerate(thresholds):\n",
    "    print(\"Threshold:\", threshold, end=\"\\r\")\n",
    "    Y_pred = np.array([estimate_map_occurences(theta_occurences, x, ham_prior, spam_prior, threshold) for x in X_test])\n",
    "\n",
    "    true_positives = np.sum((Y_pred == 1) & (Y_test == 1))\n",
    "    false_positives = np.sum((Y_pred == 1) & (Y_test == 0))\n",
    "    false_negatives = np.sum((Y_pred == 0) & (Y_test == 1))\n",
    "    true_negatives = np.sum((Y_pred == 0) & (Y_test == 0))\n",
    "    \n",
    "    true_positive_rate = true_positives / (true_positives + false_negatives)\n",
    "    false_positive_rate = false_positives / (false_positives + true_negatives)\n",
    "    \n",
    "    tpr_list.append(true_positive_rate)\n",
    "    fpr_list.append(false_positive_rate)\n",
    "\n",
    "auc = np.trapezoid(tpr_list[::-1], fpr_list[::-1])\n",
    "\n",
    "print(\" \")\n",
    "print(f\"AUC: {auc:.4f}\")\n",
    "plt.figure()\n",
    "plt.plot(fpr_list, tpr_list, label='ROC Curve')\n",
    "plt.plot([0, 1], [0, 1], 'k--', label='Random Guess')\n",
    "plt.xlabel('False Positive Rate')\n",
    "plt.ylabel('True Positive Rate')\n",
    "plt.title('ROC Curve for Naive Bayes Spam Classifier')  \n",
    "plt.legend()\n",
    "plt.show()"
   ]
  },
  {
   "cell_type": "markdown",
   "metadata": {},
   "source": [
    "### 4 - Comparision of models\n",
    "Bernoulli model accuracy: 0.9453\n",
    "\n",
    "Occurrence (Multinoulli) model accuracy: 0.9821\n",
    "\n",
    "Bernoulli AUC: 0.9099\n",
    "\n",
    "Occurrence (Multinoulli) AUC: 0.9782\n",
    "\n",
    "In conclusion, the Occurrence (Multinoulli) model outperforms the Bernoulli model in both accuracy and AUC, indicating its superior ability to classify spam messages effectively."
   ]
  }
 ],
 "metadata": {
  "kernelspec": {
   "display_name": "cs-apml-assignments-mElxrNIC-py3.13",
   "language": "python",
   "name": "python3"
  },
  "language_info": {
   "codemirror_mode": {
    "name": "ipython",
    "version": 3
   },
   "file_extension": ".py",
   "mimetype": "text/x-python",
   "name": "python",
   "nbconvert_exporter": "python",
   "pygments_lexer": "ipython3",
   "version": "3.13.0"
  }
 },
 "nbformat": 4,
 "nbformat_minor": 2
}
